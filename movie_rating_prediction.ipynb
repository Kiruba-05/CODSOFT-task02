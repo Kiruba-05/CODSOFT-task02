{
  "cells": [
    {
      "cell_type": "code",
      "execution_count": null,
      "metadata": {
        "id": "Z0aRQa1wq_nJ"
      },
      "outputs": [],
      "source": [
        "import pandas as pd\n",
        "from sklearn.model_selection import train_test_split\n",
        "from sklearn.preprocessing import LabelEncoder, OneHotEncoder\n",
        "from sklearn.impute import SimpleImputer\n",
        "from sklearn.ensemble import RandomForestRegressor\n",
        "from sklearn.metrics import r2_score, mean_absolute_error, mean_squared_error\n",
        "import numpy as np"
      ]
    },
    {
      "cell_type": "code",
      "execution_count": null,
      "metadata": {
        "colab": {
          "base_uri": "https://localhost:8080/",
          "height": 617
        },
        "id": "TzPT_flk_8Gd",
        "outputId": "a82f9080-fbd4-4632-d2e6-de5b315c543b"
      },
      "outputs": [
        {
          "output_type": "execute_result",
          "data": {
            "text/plain": [
              "                                     Name    Year Duration            Genre  \\\n",
              "0                                             NaN      NaN            Drama   \n",
              "1      #Gadhvi (He thought he was Gandhi)  (2019)  109 min            Drama   \n",
              "2                             #Homecoming  (2021)   90 min   Drama, Musical   \n",
              "3                                 #Yaaram  (2019)  110 min  Comedy, Romance   \n",
              "4                       ...And Once Again  (2010)  105 min            Drama   \n",
              "...                                   ...     ...      ...              ...   \n",
              "15504                 Zulm Ko Jala Doonga  (1988)      NaN           Action   \n",
              "15505                               Zulmi  (1999)  129 min    Action, Drama   \n",
              "15506                           Zulmi Raj  (2005)      NaN           Action   \n",
              "15507                       Zulmi Shikari  (1988)      NaN           Action   \n",
              "15508                        Zulm-O-Sitam  (1998)  130 min    Action, Drama   \n",
              "\n",
              "       Rating Votes            Director           Actor 1             Actor 2  \\\n",
              "0         NaN   NaN       J.S. Randhawa          Manmauji              Birbal   \n",
              "1         7.0     8       Gaurav Bakshi      Rasika Dugal      Vivek Ghamande   \n",
              "2         NaN   NaN  Soumyajit Majumdar      Sayani Gupta   Plabita Borthakur   \n",
              "3         4.4    35          Ovais Khan           Prateik          Ishita Raj   \n",
              "4         NaN   NaN        Amol Palekar      Rajat Kapoor  Rituparna Sengupta   \n",
              "...       ...   ...                 ...               ...                 ...   \n",
              "15504     4.6    11       Mahendra Shah  Naseeruddin Shah       Sumeet Saigal   \n",
              "15505     4.5   655          Kuku Kohli      Akshay Kumar      Twinkle Khanna   \n",
              "15506     NaN   NaN          Kiran Thej   Sangeeta Tiwari                 NaN   \n",
              "15507     NaN   NaN                 NaN               NaN                 NaN   \n",
              "15508     6.2    20        K.C. Bokadia        Dharmendra          Jaya Prada   \n",
              "\n",
              "               Actor 3  \n",
              "0      Rajendra Bhatia  \n",
              "1        Arvind Jangid  \n",
              "2           Roy Angana  \n",
              "3      Siddhant Kapoor  \n",
              "4          Antara Mali  \n",
              "...                ...  \n",
              "15504    Suparna Anand  \n",
              "15505      Aruna Irani  \n",
              "15506              NaN  \n",
              "15507              NaN  \n",
              "15508      Arjun Sarja  \n",
              "\n",
              "[15509 rows x 10 columns]"
            ],
            "text/html": [
              "\n",
              "  <div id=\"df-71cdd685-c68e-4904-89b9-db397443bb49\" class=\"colab-df-container\">\n",
              "    <div>\n",
              "<style scoped>\n",
              "    .dataframe tbody tr th:only-of-type {\n",
              "        vertical-align: middle;\n",
              "    }\n",
              "\n",
              "    .dataframe tbody tr th {\n",
              "        vertical-align: top;\n",
              "    }\n",
              "\n",
              "    .dataframe thead th {\n",
              "        text-align: right;\n",
              "    }\n",
              "</style>\n",
              "<table border=\"1\" class=\"dataframe\">\n",
              "  <thead>\n",
              "    <tr style=\"text-align: right;\">\n",
              "      <th></th>\n",
              "      <th>Name</th>\n",
              "      <th>Year</th>\n",
              "      <th>Duration</th>\n",
              "      <th>Genre</th>\n",
              "      <th>Rating</th>\n",
              "      <th>Votes</th>\n",
              "      <th>Director</th>\n",
              "      <th>Actor 1</th>\n",
              "      <th>Actor 2</th>\n",
              "      <th>Actor 3</th>\n",
              "    </tr>\n",
              "  </thead>\n",
              "  <tbody>\n",
              "    <tr>\n",
              "      <th>0</th>\n",
              "      <td></td>\n",
              "      <td>NaN</td>\n",
              "      <td>NaN</td>\n",
              "      <td>Drama</td>\n",
              "      <td>NaN</td>\n",
              "      <td>NaN</td>\n",
              "      <td>J.S. Randhawa</td>\n",
              "      <td>Manmauji</td>\n",
              "      <td>Birbal</td>\n",
              "      <td>Rajendra Bhatia</td>\n",
              "    </tr>\n",
              "    <tr>\n",
              "      <th>1</th>\n",
              "      <td>#Gadhvi (He thought he was Gandhi)</td>\n",
              "      <td>(2019)</td>\n",
              "      <td>109 min</td>\n",
              "      <td>Drama</td>\n",
              "      <td>7.0</td>\n",
              "      <td>8</td>\n",
              "      <td>Gaurav Bakshi</td>\n",
              "      <td>Rasika Dugal</td>\n",
              "      <td>Vivek Ghamande</td>\n",
              "      <td>Arvind Jangid</td>\n",
              "    </tr>\n",
              "    <tr>\n",
              "      <th>2</th>\n",
              "      <td>#Homecoming</td>\n",
              "      <td>(2021)</td>\n",
              "      <td>90 min</td>\n",
              "      <td>Drama, Musical</td>\n",
              "      <td>NaN</td>\n",
              "      <td>NaN</td>\n",
              "      <td>Soumyajit Majumdar</td>\n",
              "      <td>Sayani Gupta</td>\n",
              "      <td>Plabita Borthakur</td>\n",
              "      <td>Roy Angana</td>\n",
              "    </tr>\n",
              "    <tr>\n",
              "      <th>3</th>\n",
              "      <td>#Yaaram</td>\n",
              "      <td>(2019)</td>\n",
              "      <td>110 min</td>\n",
              "      <td>Comedy, Romance</td>\n",
              "      <td>4.4</td>\n",
              "      <td>35</td>\n",
              "      <td>Ovais Khan</td>\n",
              "      <td>Prateik</td>\n",
              "      <td>Ishita Raj</td>\n",
              "      <td>Siddhant Kapoor</td>\n",
              "    </tr>\n",
              "    <tr>\n",
              "      <th>4</th>\n",
              "      <td>...And Once Again</td>\n",
              "      <td>(2010)</td>\n",
              "      <td>105 min</td>\n",
              "      <td>Drama</td>\n",
              "      <td>NaN</td>\n",
              "      <td>NaN</td>\n",
              "      <td>Amol Palekar</td>\n",
              "      <td>Rajat Kapoor</td>\n",
              "      <td>Rituparna Sengupta</td>\n",
              "      <td>Antara Mali</td>\n",
              "    </tr>\n",
              "    <tr>\n",
              "      <th>...</th>\n",
              "      <td>...</td>\n",
              "      <td>...</td>\n",
              "      <td>...</td>\n",
              "      <td>...</td>\n",
              "      <td>...</td>\n",
              "      <td>...</td>\n",
              "      <td>...</td>\n",
              "      <td>...</td>\n",
              "      <td>...</td>\n",
              "      <td>...</td>\n",
              "    </tr>\n",
              "    <tr>\n",
              "      <th>15504</th>\n",
              "      <td>Zulm Ko Jala Doonga</td>\n",
              "      <td>(1988)</td>\n",
              "      <td>NaN</td>\n",
              "      <td>Action</td>\n",
              "      <td>4.6</td>\n",
              "      <td>11</td>\n",
              "      <td>Mahendra Shah</td>\n",
              "      <td>Naseeruddin Shah</td>\n",
              "      <td>Sumeet Saigal</td>\n",
              "      <td>Suparna Anand</td>\n",
              "    </tr>\n",
              "    <tr>\n",
              "      <th>15505</th>\n",
              "      <td>Zulmi</td>\n",
              "      <td>(1999)</td>\n",
              "      <td>129 min</td>\n",
              "      <td>Action, Drama</td>\n",
              "      <td>4.5</td>\n",
              "      <td>655</td>\n",
              "      <td>Kuku Kohli</td>\n",
              "      <td>Akshay Kumar</td>\n",
              "      <td>Twinkle Khanna</td>\n",
              "      <td>Aruna Irani</td>\n",
              "    </tr>\n",
              "    <tr>\n",
              "      <th>15506</th>\n",
              "      <td>Zulmi Raj</td>\n",
              "      <td>(2005)</td>\n",
              "      <td>NaN</td>\n",
              "      <td>Action</td>\n",
              "      <td>NaN</td>\n",
              "      <td>NaN</td>\n",
              "      <td>Kiran Thej</td>\n",
              "      <td>Sangeeta Tiwari</td>\n",
              "      <td>NaN</td>\n",
              "      <td>NaN</td>\n",
              "    </tr>\n",
              "    <tr>\n",
              "      <th>15507</th>\n",
              "      <td>Zulmi Shikari</td>\n",
              "      <td>(1988)</td>\n",
              "      <td>NaN</td>\n",
              "      <td>Action</td>\n",
              "      <td>NaN</td>\n",
              "      <td>NaN</td>\n",
              "      <td>NaN</td>\n",
              "      <td>NaN</td>\n",
              "      <td>NaN</td>\n",
              "      <td>NaN</td>\n",
              "    </tr>\n",
              "    <tr>\n",
              "      <th>15508</th>\n",
              "      <td>Zulm-O-Sitam</td>\n",
              "      <td>(1998)</td>\n",
              "      <td>130 min</td>\n",
              "      <td>Action, Drama</td>\n",
              "      <td>6.2</td>\n",
              "      <td>20</td>\n",
              "      <td>K.C. Bokadia</td>\n",
              "      <td>Dharmendra</td>\n",
              "      <td>Jaya Prada</td>\n",
              "      <td>Arjun Sarja</td>\n",
              "    </tr>\n",
              "  </tbody>\n",
              "</table>\n",
              "<p>15509 rows × 10 columns</p>\n",
              "</div>\n",
              "    <div class=\"colab-df-buttons\">\n",
              "\n",
              "  <div class=\"colab-df-container\">\n",
              "    <button class=\"colab-df-convert\" onclick=\"convertToInteractive('df-71cdd685-c68e-4904-89b9-db397443bb49')\"\n",
              "            title=\"Convert this dataframe to an interactive table.\"\n",
              "            style=\"display:none;\">\n",
              "\n",
              "  <svg xmlns=\"http://www.w3.org/2000/svg\" height=\"24px\" viewBox=\"0 -960 960 960\">\n",
              "    <path d=\"M120-120v-720h720v720H120Zm60-500h600v-160H180v160Zm220 220h160v-160H400v160Zm0 220h160v-160H400v160ZM180-400h160v-160H180v160Zm440 0h160v-160H620v160ZM180-180h160v-160H180v160Zm440 0h160v-160H620v160Z\"/>\n",
              "  </svg>\n",
              "    </button>\n",
              "\n",
              "  <style>\n",
              "    .colab-df-container {\n",
              "      display:flex;\n",
              "      gap: 12px;\n",
              "    }\n",
              "\n",
              "    .colab-df-convert {\n",
              "      background-color: #E8F0FE;\n",
              "      border: none;\n",
              "      border-radius: 50%;\n",
              "      cursor: pointer;\n",
              "      display: none;\n",
              "      fill: #1967D2;\n",
              "      height: 32px;\n",
              "      padding: 0 0 0 0;\n",
              "      width: 32px;\n",
              "    }\n",
              "\n",
              "    .colab-df-convert:hover {\n",
              "      background-color: #E2EBFA;\n",
              "      box-shadow: 0px 1px 2px rgba(60, 64, 67, 0.3), 0px 1px 3px 1px rgba(60, 64, 67, 0.15);\n",
              "      fill: #174EA6;\n",
              "    }\n",
              "\n",
              "    .colab-df-buttons div {\n",
              "      margin-bottom: 4px;\n",
              "    }\n",
              "\n",
              "    [theme=dark] .colab-df-convert {\n",
              "      background-color: #3B4455;\n",
              "      fill: #D2E3FC;\n",
              "    }\n",
              "\n",
              "    [theme=dark] .colab-df-convert:hover {\n",
              "      background-color: #434B5C;\n",
              "      box-shadow: 0px 1px 3px 1px rgba(0, 0, 0, 0.15);\n",
              "      filter: drop-shadow(0px 1px 2px rgba(0, 0, 0, 0.3));\n",
              "      fill: #FFFFFF;\n",
              "    }\n",
              "  </style>\n",
              "\n",
              "    <script>\n",
              "      const buttonEl =\n",
              "        document.querySelector('#df-71cdd685-c68e-4904-89b9-db397443bb49 button.colab-df-convert');\n",
              "      buttonEl.style.display =\n",
              "        google.colab.kernel.accessAllowed ? 'block' : 'none';\n",
              "\n",
              "      async function convertToInteractive(key) {\n",
              "        const element = document.querySelector('#df-71cdd685-c68e-4904-89b9-db397443bb49');\n",
              "        const dataTable =\n",
              "          await google.colab.kernel.invokeFunction('convertToInteractive',\n",
              "                                                    [key], {});\n",
              "        if (!dataTable) return;\n",
              "\n",
              "        const docLinkHtml = 'Like what you see? Visit the ' +\n",
              "          '<a target=\"_blank\" href=https://colab.research.google.com/notebooks/data_table.ipynb>data table notebook</a>'\n",
              "          + ' to learn more about interactive tables.';\n",
              "        element.innerHTML = '';\n",
              "        dataTable['output_type'] = 'display_data';\n",
              "        await google.colab.output.renderOutput(dataTable, element);\n",
              "        const docLink = document.createElement('div');\n",
              "        docLink.innerHTML = docLinkHtml;\n",
              "        element.appendChild(docLink);\n",
              "      }\n",
              "    </script>\n",
              "  </div>\n",
              "\n",
              "\n",
              "<div id=\"df-e0409e36-83a4-456b-90f7-224f9d7395d4\">\n",
              "  <button class=\"colab-df-quickchart\" onclick=\"quickchart('df-e0409e36-83a4-456b-90f7-224f9d7395d4')\"\n",
              "            title=\"Suggest charts\"\n",
              "            style=\"display:none;\">\n",
              "\n",
              "<svg xmlns=\"http://www.w3.org/2000/svg\" height=\"24px\"viewBox=\"0 0 24 24\"\n",
              "     width=\"24px\">\n",
              "    <g>\n",
              "        <path d=\"M19 3H5c-1.1 0-2 .9-2 2v14c0 1.1.9 2 2 2h14c1.1 0 2-.9 2-2V5c0-1.1-.9-2-2-2zM9 17H7v-7h2v7zm4 0h-2V7h2v10zm4 0h-2v-4h2v4z\"/>\n",
              "    </g>\n",
              "</svg>\n",
              "  </button>\n",
              "\n",
              "<style>\n",
              "  .colab-df-quickchart {\n",
              "      --bg-color: #E8F0FE;\n",
              "      --fill-color: #1967D2;\n",
              "      --hover-bg-color: #E2EBFA;\n",
              "      --hover-fill-color: #174EA6;\n",
              "      --disabled-fill-color: #AAA;\n",
              "      --disabled-bg-color: #DDD;\n",
              "  }\n",
              "\n",
              "  [theme=dark] .colab-df-quickchart {\n",
              "      --bg-color: #3B4455;\n",
              "      --fill-color: #D2E3FC;\n",
              "      --hover-bg-color: #434B5C;\n",
              "      --hover-fill-color: #FFFFFF;\n",
              "      --disabled-bg-color: #3B4455;\n",
              "      --disabled-fill-color: #666;\n",
              "  }\n",
              "\n",
              "  .colab-df-quickchart {\n",
              "    background-color: var(--bg-color);\n",
              "    border: none;\n",
              "    border-radius: 50%;\n",
              "    cursor: pointer;\n",
              "    display: none;\n",
              "    fill: var(--fill-color);\n",
              "    height: 32px;\n",
              "    padding: 0;\n",
              "    width: 32px;\n",
              "  }\n",
              "\n",
              "  .colab-df-quickchart:hover {\n",
              "    background-color: var(--hover-bg-color);\n",
              "    box-shadow: 0 1px 2px rgba(60, 64, 67, 0.3), 0 1px 3px 1px rgba(60, 64, 67, 0.15);\n",
              "    fill: var(--button-hover-fill-color);\n",
              "  }\n",
              "\n",
              "  .colab-df-quickchart-complete:disabled,\n",
              "  .colab-df-quickchart-complete:disabled:hover {\n",
              "    background-color: var(--disabled-bg-color);\n",
              "    fill: var(--disabled-fill-color);\n",
              "    box-shadow: none;\n",
              "  }\n",
              "\n",
              "  .colab-df-spinner {\n",
              "    border: 2px solid var(--fill-color);\n",
              "    border-color: transparent;\n",
              "    border-bottom-color: var(--fill-color);\n",
              "    animation:\n",
              "      spin 1s steps(1) infinite;\n",
              "  }\n",
              "\n",
              "  @keyframes spin {\n",
              "    0% {\n",
              "      border-color: transparent;\n",
              "      border-bottom-color: var(--fill-color);\n",
              "      border-left-color: var(--fill-color);\n",
              "    }\n",
              "    20% {\n",
              "      border-color: transparent;\n",
              "      border-left-color: var(--fill-color);\n",
              "      border-top-color: var(--fill-color);\n",
              "    }\n",
              "    30% {\n",
              "      border-color: transparent;\n",
              "      border-left-color: var(--fill-color);\n",
              "      border-top-color: var(--fill-color);\n",
              "      border-right-color: var(--fill-color);\n",
              "    }\n",
              "    40% {\n",
              "      border-color: transparent;\n",
              "      border-right-color: var(--fill-color);\n",
              "      border-top-color: var(--fill-color);\n",
              "    }\n",
              "    60% {\n",
              "      border-color: transparent;\n",
              "      border-right-color: var(--fill-color);\n",
              "    }\n",
              "    80% {\n",
              "      border-color: transparent;\n",
              "      border-right-color: var(--fill-color);\n",
              "      border-bottom-color: var(--fill-color);\n",
              "    }\n",
              "    90% {\n",
              "      border-color: transparent;\n",
              "      border-bottom-color: var(--fill-color);\n",
              "    }\n",
              "  }\n",
              "</style>\n",
              "\n",
              "  <script>\n",
              "    async function quickchart(key) {\n",
              "      const quickchartButtonEl =\n",
              "        document.querySelector('#' + key + ' button');\n",
              "      quickchartButtonEl.disabled = true;  // To prevent multiple clicks.\n",
              "      quickchartButtonEl.classList.add('colab-df-spinner');\n",
              "      try {\n",
              "        const charts = await google.colab.kernel.invokeFunction(\n",
              "            'suggestCharts', [key], {});\n",
              "      } catch (error) {\n",
              "        console.error('Error during call to suggestCharts:', error);\n",
              "      }\n",
              "      quickchartButtonEl.classList.remove('colab-df-spinner');\n",
              "      quickchartButtonEl.classList.add('colab-df-quickchart-complete');\n",
              "    }\n",
              "    (() => {\n",
              "      let quickchartButtonEl =\n",
              "        document.querySelector('#df-e0409e36-83a4-456b-90f7-224f9d7395d4 button');\n",
              "      quickchartButtonEl.style.display =\n",
              "        google.colab.kernel.accessAllowed ? 'block' : 'none';\n",
              "    })();\n",
              "  </script>\n",
              "</div>\n",
              "\n",
              "  <div id=\"id_4bcf2ae2-401c-459f-9771-55135c84c2fd\">\n",
              "    <style>\n",
              "      .colab-df-generate {\n",
              "        background-color: #E8F0FE;\n",
              "        border: none;\n",
              "        border-radius: 50%;\n",
              "        cursor: pointer;\n",
              "        display: none;\n",
              "        fill: #1967D2;\n",
              "        height: 32px;\n",
              "        padding: 0 0 0 0;\n",
              "        width: 32px;\n",
              "      }\n",
              "\n",
              "      .colab-df-generate:hover {\n",
              "        background-color: #E2EBFA;\n",
              "        box-shadow: 0px 1px 2px rgba(60, 64, 67, 0.3), 0px 1px 3px 1px rgba(60, 64, 67, 0.15);\n",
              "        fill: #174EA6;\n",
              "      }\n",
              "\n",
              "      [theme=dark] .colab-df-generate {\n",
              "        background-color: #3B4455;\n",
              "        fill: #D2E3FC;\n",
              "      }\n",
              "\n",
              "      [theme=dark] .colab-df-generate:hover {\n",
              "        background-color: #434B5C;\n",
              "        box-shadow: 0px 1px 3px 1px rgba(0, 0, 0, 0.15);\n",
              "        filter: drop-shadow(0px 1px 2px rgba(0, 0, 0, 0.3));\n",
              "        fill: #FFFFFF;\n",
              "      }\n",
              "    </style>\n",
              "    <button class=\"colab-df-generate\" onclick=\"generateWithVariable('df')\"\n",
              "            title=\"Generate code using this dataframe.\"\n",
              "            style=\"display:none;\">\n",
              "\n",
              "  <svg xmlns=\"http://www.w3.org/2000/svg\" height=\"24px\"viewBox=\"0 0 24 24\"\n",
              "       width=\"24px\">\n",
              "    <path d=\"M7,19H8.4L18.45,9,17,7.55,7,17.6ZM5,21V16.75L18.45,3.32a2,2,0,0,1,2.83,0l1.4,1.43a1.91,1.91,0,0,1,.58,1.4,1.91,1.91,0,0,1-.58,1.4L9.25,21ZM18.45,9,17,7.55Zm-12,3A5.31,5.31,0,0,0,4.9,8.1,5.31,5.31,0,0,0,1,6.5,5.31,5.31,0,0,0,4.9,4.9,5.31,5.31,0,0,0,6.5,1,5.31,5.31,0,0,0,8.1,4.9,5.31,5.31,0,0,0,12,6.5,5.46,5.46,0,0,0,6.5,12Z\"/>\n",
              "  </svg>\n",
              "    </button>\n",
              "    <script>\n",
              "      (() => {\n",
              "      const buttonEl =\n",
              "        document.querySelector('#id_4bcf2ae2-401c-459f-9771-55135c84c2fd button.colab-df-generate');\n",
              "      buttonEl.style.display =\n",
              "        google.colab.kernel.accessAllowed ? 'block' : 'none';\n",
              "\n",
              "      buttonEl.onclick = () => {\n",
              "        google.colab.notebook.generateWithVariable('df');\n",
              "      }\n",
              "      })();\n",
              "    </script>\n",
              "  </div>\n",
              "\n",
              "    </div>\n",
              "  </div>\n"
            ],
            "application/vnd.google.colaboratory.intrinsic+json": {
              "type": "dataframe",
              "variable_name": "df",
              "summary": "{\n  \"name\": \"df\",\n  \"rows\": 15509,\n  \"fields\": [\n    {\n      \"column\": \"Name\",\n      \"properties\": {\n        \"dtype\": \"string\",\n        \"num_unique_values\": 13838,\n        \"samples\": [\n          \"Tumsa Nahin Dekha\",\n          \"Thanedaar\",\n          \"Farzande Hind\"\n        ],\n        \"semantic_type\": \"\",\n        \"description\": \"\"\n      }\n    },\n    {\n      \"column\": \"Year\",\n      \"properties\": {\n        \"dtype\": \"category\",\n        \"num_unique_values\": 102,\n        \"samples\": [\n          \"(1974)\",\n          \"(1963)\",\n          \"(1971)\"\n        ],\n        \"semantic_type\": \"\",\n        \"description\": \"\"\n      }\n    },\n    {\n      \"column\": \"Duration\",\n      \"properties\": {\n        \"dtype\": \"category\",\n        \"num_unique_values\": 182,\n        \"samples\": [\n          \"168 min\",\n          \"99 min\",\n          \"179 min\"\n        ],\n        \"semantic_type\": \"\",\n        \"description\": \"\"\n      }\n    },\n    {\n      \"column\": \"Genre\",\n      \"properties\": {\n        \"dtype\": \"category\",\n        \"num_unique_values\": 485,\n        \"samples\": [\n          \"Family, Mystery\",\n          \"Comedy, Fantasy, Musical\",\n          \"Action, Adventure, Crime\"\n        ],\n        \"semantic_type\": \"\",\n        \"description\": \"\"\n      }\n    },\n    {\n      \"column\": \"Rating\",\n      \"properties\": {\n        \"dtype\": \"number\",\n        \"std\": 1.3817771548659665,\n        \"min\": 1.1,\n        \"max\": 10.0,\n        \"num_unique_values\": 84,\n        \"samples\": [\n          1.4,\n          7.0,\n          2.9\n        ],\n        \"semantic_type\": \"\",\n        \"description\": \"\"\n      }\n    },\n    {\n      \"column\": \"Votes\",\n      \"properties\": {\n        \"dtype\": \"category\",\n        \"num_unique_values\": 2034,\n        \"samples\": [\n          \"837\",\n          \"101\",\n          \"2,566\"\n        ],\n        \"semantic_type\": \"\",\n        \"description\": \"\"\n      }\n    },\n    {\n      \"column\": \"Director\",\n      \"properties\": {\n        \"dtype\": \"category\",\n        \"num_unique_values\": 5938,\n        \"samples\": [\n          \"Param Hans Chitra\",\n          \"Vickram\",\n          \"Zaigham Ali Syed\"\n        ],\n        \"semantic_type\": \"\",\n        \"description\": \"\"\n      }\n    },\n    {\n      \"column\": \"Actor 1\",\n      \"properties\": {\n        \"dtype\": \"category\",\n        \"num_unique_values\": 4718,\n        \"samples\": [\n          \"Abhishek Bachchan\",\n          \"Giri Babu\",\n          \"Ajay Bafna\"\n        ],\n        \"semantic_type\": \"\",\n        \"description\": \"\"\n      }\n    },\n    {\n      \"column\": \"Actor 2\",\n      \"properties\": {\n        \"dtype\": \"category\",\n        \"num_unique_values\": 4891,\n        \"samples\": [\n          \"Bipasha Basu\",\n          \"Mukul Dev\",\n          \"Arjun Kapoor\"\n        ],\n        \"semantic_type\": \"\",\n        \"description\": \"\"\n      }\n    },\n    {\n      \"column\": \"Actor 3\",\n      \"properties\": {\n        \"dtype\": \"category\",\n        \"num_unique_values\": 4820,\n        \"samples\": [\n          \"Damandeep Singh\",\n          \"Kamini Kaushal\",\n          \"Babu\"\n        ],\n        \"semantic_type\": \"\",\n        \"description\": \"\"\n      }\n    }\n  ]\n}"
            }
          },
          "metadata": {},
          "execution_count": 3
        }
      ],
      "source": [
        "df = pd.read_csv(\"IMDb Movies India.csv\", encoding='latin-1')\n",
        "df"
      ]
    },
    {
      "cell_type": "code",
      "execution_count": null,
      "metadata": {
        "id": "mgU9jGycBLxf"
      },
      "outputs": [],
      "source": [
        "def clean_year(year):\n",
        "    if pd.notna(year):\n",
        "        return int(''.join(filter(str.isdigit, str(year))))\n",
        "    return np.nan\n",
        "\n",
        "df['Year'] = df['Year'].apply(clean_year)\n",
        "\n",
        "def clean_duration(duration):\n",
        "    if pd.notna(duration):\n",
        "        return int(''.join(filter(str.isdigit, str(duration).split()[0])))\n",
        "    return np.nan\n",
        "\n",
        "df['Duration'] = df['Duration'].apply(clean_duration)"
      ]
    },
    {
      "cell_type": "code",
      "execution_count": null,
      "metadata": {
        "id": "hAgmGjSVAKgF"
      },
      "outputs": [],
      "source": [
        "num_cols = ['Year', 'Duration', 'Votes']\n",
        "cat_cols = ['Genre', 'Director', 'Actor 1', 'Actor 2', 'Actor 3']"
      ]
    },
    {
      "cell_type": "code",
      "execution_count": null,
      "metadata": {
        "id": "0AaClKbaA2lQ"
      },
      "outputs": [],
      "source": [
        "def clean_votes(votes):\n",
        "    if pd.notna(votes):\n",
        "        return int(''.join(filter(str.isdigit, str(votes))))\n",
        "    return np.nan\n",
        "\n",
        "df['Votes'] = df['Votes'].apply(clean_votes)\n",
        "\n",
        "num_imputer = SimpleImputer(strategy='median')\n",
        "df[num_cols] = num_imputer.fit_transform(df[num_cols])"
      ]
    },
    {
      "cell_type": "code",
      "execution_count": null,
      "metadata": {
        "id": "BcGWqJeABqJ1"
      },
      "outputs": [],
      "source": [
        "cat_imputer = SimpleImputer(strategy='most_frequent')\n",
        "df[cat_cols] = cat_imputer.fit_transform(df[cat_cols])\n"
      ]
    },
    {
      "cell_type": "code",
      "execution_count": null,
      "metadata": {
        "id": "ta4PDq2GCEqK"
      },
      "outputs": [],
      "source": [
        "df['Actors'] = df[['Actor 1', 'Actor 2', 'Actor 3']].apply(lambda x: ' '.join(x.dropna()), axis=1)\n",
        "df = df.drop(columns=['Actor 1', 'Actor 2', 'Actor 3'])"
      ]
    },
    {
      "cell_type": "code",
      "execution_count": null,
      "metadata": {
        "id": "J4pCEcGNCHAI"
      },
      "outputs": [],
      "source": [
        "df = pd.get_dummies(df, columns=['Genre', 'Director', 'Actors'])"
      ]
    },
    {
      "cell_type": "code",
      "execution_count": null,
      "metadata": {
        "id": "rQWBm1y5CJIS"
      },
      "outputs": [],
      "source": [
        "df['Rating'] = cat_imputer.fit_transform(df[['Rating']])"
      ]
    },
    {
      "cell_type": "code",
      "execution_count": null,
      "metadata": {
        "id": "YO91YRIXCLuL"
      },
      "outputs": [],
      "source": [
        "X = df.drop(columns=['Rating']).apply(pd.to_numeric, errors='coerce').fillna(0)\n",
        "y = df['Rating'].astype(float)"
      ]
    },
    {
      "cell_type": "code",
      "execution_count": null,
      "metadata": {
        "id": "RWRVbpnkCNwf"
      },
      "outputs": [],
      "source": [
        "X_train, X_test, y_train, y_test = train_test_split(X, y, test_size=0.2, random_state=42)\n"
      ]
    },
    {
      "cell_type": "code",
      "execution_count": null,
      "metadata": {
        "id": "0XXE0Y-2JtEB"
      },
      "outputs": [],
      "source": [
        "import warnings\n",
        "warnings.filterwarnings('ignore', category=pd.errors.PerformanceWarning)"
      ]
    },
    {
      "cell_type": "markdown",
      "metadata": {
        "id": "DScakG7zPRrf"
      },
      "source": [
        "# Random Forest"
      ]
    },
    {
      "cell_type": "code",
      "execution_count": null,
      "metadata": {
        "id": "lYOAxdf2CPr2"
      },
      "outputs": [],
      "source": [
        "model = RandomForestRegressor(n_estimators=100, random_state=42)\n",
        "model.fit(X_train, y_train)\n",
        "\n",
        "y_pred = model.predict(X_test)"
      ]
    },
    {
      "cell_type": "code",
      "execution_count": null,
      "metadata": {
        "id": "0W-rY7VUCSe_"
      },
      "outputs": [],
      "source": [
        "mae = mean_absolute_error(y_test, y_pred)\n",
        "mse = mean_squared_error(y_test, y_pred)\n",
        "rmse = np.sqrt(mse)\n",
        "r2_score = r2_score(y_test, y_pred)\n",
        "\n",
        "print(f'Mean Absolute Error (MAE): {mae:.2f}')\n",
        "print(f'Mean Squared Error (MSE): {mse:.2f}')\n",
        "print(f'Root Mean Squared Error (RMSE): {rmse:.2f}')\n",
        "print(f'R-squared (R2): {r2_score:.2f}')"
      ]
    },
    {
      "cell_type": "code",
      "execution_count": null,
      "metadata": {
        "colab": {
          "base_uri": "https://localhost:8080/"
        },
        "id": "Hn-sQkH8E3tK",
        "outputId": "9088371c-d459-4b1f-e3f5-9641cd7e839a"
      },
      "outputs": [
        {
          "name": "stdout",
          "output_type": "stream",
          "text": [
            "Predicted Rating: 7.064000000000004\n"
          ]
        }
      ],
      "source": [
        "new_data = pd.DataFrame({\n",
        "    'Year': [2022],\n",
        "    'Duration': [120],\n",
        "    'Votes': [1000],\n",
        "    'Genre_Drama': [1],\n",
        "    'Genre_Action': [0],\n",
        "    'Director_SomeDirector': [1],\n",
        "    'Actors_Actor1': [1],\n",
        "    # Include all other necessary dummy variables here\n",
        "})\n",
        "\n",
        "# Ensure all columns match the training data\n",
        "for col in X.columns:\n",
        "    if col not in new_data.columns:\n",
        "        new_data[col] = 0\n",
        "\n",
        "new_data = new_data.reindex(columns=X_train.columns, fill_value=0)\n",
        "\n",
        "# Predict the rating for the new data\n",
        "new_prediction = model.predict(new_data)\n",
        "print(f'Predicted Rating: {new_prediction[0]}')"
      ]
    },
    {
      "cell_type": "markdown",
      "metadata": {
        "id": "Wf_f_0quK0NT"
      },
      "source": [
        "# Gradient boosting regressor\n",
        "accuracy was low for random forest so we use gradient boosting"
      ]
    },
    {
      "cell_type": "code",
      "execution_count": null,
      "metadata": {
        "id": "qUZEWM5JFW1O"
      },
      "outputs": [],
      "source": [
        "from sklearn.ensemble import GradientBoostingRegressor"
      ]
    },
    {
      "cell_type": "code",
      "execution_count": null,
      "metadata": {
        "id": "sAB8Ji_DK-_7"
      },
      "outputs": [],
      "source": [
        "model2 = GradientBoostingRegressor(n_estimators=100, random_state=42)\n",
        "model2.fit(X_train, y_train)\n",
        "\n",
        "# Make predictions\n",
        "y_pred2 = model2.predict(X_test)"
      ]
    },
    {
      "cell_type": "code",
      "execution_count": null,
      "metadata": {
        "colab": {
          "base_uri": "https://localhost:8080/"
        },
        "id": "qyrU89L6LF-J",
        "outputId": "747aa7a5-13a0-4f97-b4ad-29ecc688f549"
      },
      "outputs": [
        {
          "name": "stdout",
          "output_type": "stream",
          "text": [
            "Mean Absolute Error (MAE): 0.50\n",
            "Mean Squared Error (MSE): 0.70\n",
            "Root Mean Squared Error (RMSE): 0.84\n",
            "R^2 Score: 0.30\n"
          ]
        }
      ],
      "source": [
        "mae2 = mean_absolute_error(y_test, y_pred2)\n",
        "mse2 = mean_squared_error(y_test, y_pred2)\n",
        "rmse2 = np.sqrt(mse2)\n",
        "r2_2 = r2_score(y_test, y_pred2)\n",
        "\n",
        "print(f'Mean Absolute Error (MAE): {mae2:.2f}')\n",
        "print(f'Mean Squared Error (MSE): {mse2:.2f}')\n",
        "print(f'Root Mean Squared Error (RMSE): {rmse2:.2f}')\n",
        "print(f'R^2 Score: {r2_2:.2f}')"
      ]
    },
    {
      "cell_type": "code",
      "execution_count": null,
      "metadata": {
        "colab": {
          "base_uri": "https://localhost:8080/"
        },
        "id": "dQo5E8-yLTUA",
        "outputId": "279faee3-485d-420f-c9a6-de65c550437f"
      },
      "outputs": [
        {
          "name": "stdout",
          "output_type": "stream",
          "text": [
            "Predicted Rating: 6.035704248977211\n"
          ]
        }
      ],
      "source": [
        "new_data2 = pd.DataFrame({\n",
        "    'Year': [2022],\n",
        "    'Duration': [120],\n",
        "    'Votes': [1000],\n",
        "    'Genre_Drama': [1],\n",
        "    'Genre_Action': [0],\n",
        "    'Director_SomeDirector': [1],\n",
        "    'Actors_Actor1': [1],\n",
        "    # Include all other necessary dummy variables here\n",
        "})\n",
        "\n",
        "# Ensure all columns match the training data\n",
        "for col in X.columns:\n",
        "    if col not in new_data2.columns:\n",
        "        new_data2[col] = 0\n",
        "\n",
        "new_data2 = new_data2.reindex(columns=X_train.columns, fill_value=0)\n",
        "\n",
        "# Predict the rating for the new data\n",
        "new_prediction2 = model2.predict(new_data2)\n",
        "print(f'Predicted Rating: {new_prediction2[0]}')"
      ]
    },
    {
      "cell_type": "markdown",
      "metadata": {
        "id": "y8Nunq4tPJzC"
      },
      "source": [
        "this also have low accuracy"
      ]
    },
    {
      "cell_type": "markdown",
      "source": [
        "# XGBoost"
      ],
      "metadata": {
        "id": "K78TMB3JJSPS"
      }
    },
    {
      "cell_type": "code",
      "source": [
        "import xgboost as xgb"
      ],
      "metadata": {
        "id": "eNmCseVRJRmK"
      },
      "execution_count": null,
      "outputs": []
    },
    {
      "cell_type": "code",
      "source": [
        "xgb_model = xgb.XGBRegressor(n_estimators=100, random_state=42)\n",
        "xgb_model.fit(X_train, y_train)\n",
        "y_pred_xgb = xgb_model.predict(X_test)"
      ],
      "metadata": {
        "id": "Leaa_rNKJ42V"
      },
      "execution_count": null,
      "outputs": []
    },
    {
      "cell_type": "code",
      "source": [
        "mae_xgb = mean_absolute_error(y_test, y_pred_xgb)\n",
        "mse_xgb = mean_squared_error(y_test, y_pred_xgb)\n",
        "rmse_xgb = np.sqrt(mse_xgb)\n",
        "r2_xgb = r2_score(y_test, y_pred_xgb)\n",
        "print(f'XGBoost Mean Absolute Error (MAE): {mae_xgb:.2f}')\n",
        "print(f'XGBoost Mean Squared Error (MSE): {mse_xgb:.2f}')\n",
        "print(f'XGBoost Root Mean Squared Error (RMSE): {rmse_xgb:.2f}')\n",
        "print(f'XGBoost R^2 Score: {r2_xgb:.2f}')\n"
      ],
      "metadata": {
        "colab": {
          "base_uri": "https://localhost:8080/"
        },
        "id": "vKFiEBDIJ-Or",
        "outputId": "2597feea-3bda-46f6-96f9-85459e74c4f1"
      },
      "execution_count": null,
      "outputs": [
        {
          "output_type": "stream",
          "name": "stdout",
          "text": [
            "XGBoost Mean Absolute Error (MAE): 0.44\n",
            "XGBoost Mean Squared Error (MSE): 0.62\n",
            "XGBoost Root Mean Squared Error (RMSE): 0.79\n",
            "XGBoost R^2 Score: 0.38\n"
          ]
        }
      ]
    },
    {
      "cell_type": "code",
      "execution_count": null,
      "metadata": {
        "colab": {
          "base_uri": "https://localhost:8080/"
        },
        "id": "9PCU_9uQKGF-",
        "outputId": "646ef739-8773-4e81-a078-dd5a55478af3"
      },
      "outputs": [
        {
          "output_type": "stream",
          "name": "stdout",
          "text": [
            "Predicted Rating: 6.584532260894775\n"
          ]
        }
      ],
      "source": [
        "new_data4 = pd.DataFrame({\n",
        "    'Year': [2022],\n",
        "    'Duration': [120],\n",
        "    'Votes': [1000],\n",
        "    'Genre_Drama': [1],\n",
        "    'Genre_Action': [0],\n",
        "    'Director_SomeDirector': [1],\n",
        "    'Actors_Actor1': [1],\n",
        "    # Include all other necessary dummy variables here\n",
        "})\n",
        "\n",
        "# Ensure all columns match the training data\n",
        "for col in X.columns:\n",
        "    if col not in new_data4.columns:\n",
        "        new_data4[col] = 0\n",
        "\n",
        "new_data4 = new_data4.reindex(columns=X_train.columns, fill_value=0)\n",
        "\n",
        "# Predict the rating for the new data\n",
        "new_prediction4 = xgb_model.predict(new_data4)\n",
        "print(f'Predicted Rating: {new_prediction4[0]}')"
      ]
    },
    {
      "cell_type": "code",
      "source": [],
      "metadata": {
        "id": "vfG3jzGyNlLX"
      },
      "execution_count": null,
      "outputs": []
    }
  ],
  "metadata": {
    "colab": {
      "provenance": []
    },
    "kernelspec": {
      "display_name": "Python 3",
      "name": "python3"
    },
    "language_info": {
      "name": "python"
    }
  },
  "nbformat": 4,
  "nbformat_minor": 0
}